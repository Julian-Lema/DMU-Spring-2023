{
 "cells": [
  {
   "cell_type": "markdown",
   "id": "aec93d44",
   "metadata": {},
   "source": [
    "## Question 3\n",
    "First import everything that is needed"
   ]
  },
  {
   "cell_type": "code",
   "execution_count": 56,
   "id": "e16c0cee",
   "metadata": {},
   "outputs": [],
   "source": [
    "import DMUStudent.HW1\n",
    "\n",
    "using Random\n",
    "using Distributions\n",
    "using Plots"
   ]
  },
  {
   "cell_type": "markdown",
   "id": "57d9fff8",
   "metadata": {},
   "source": [
    "Create a function that creates the next step"
   ]
  },
  {
   "cell_type": "code",
   "execution_count": 57,
   "id": "bc4d2925",
   "metadata": {},
   "outputs": [
    {
     "data": {
      "text/plain": [
       "step (generic function with 1 method)"
      ]
     },
     "execution_count": 57,
     "metadata": {},
     "output_type": "execute_result"
    }
   ],
   "source": [
    "# First let's create a function outputs the step\n",
    "function step(xt , x_tm1)\n",
    "    mu = 0\n",
    "    sigma2 = 0.04\n",
    "    sigma = sqrt(sigma2)\n",
    "    # vt = randn() * sigma + mu\n",
    "    x_tp1 = 1.5*xt - x_tm1 + rand(Normal(mu,sigma))\n",
    "\n",
    "    return x_tp1\n",
    "end"
   ]
  },
  {
   "cell_type": "markdown",
   "id": "9ff31111",
   "metadata": {},
   "source": [
    "Create the function the simulates the step function above 20 times"
   ]
  },
  {
   "cell_type": "code",
   "execution_count": 58,
   "id": "85c6789e",
   "metadata": {},
   "outputs": [
    {
     "data": {
      "text/plain": [
       "simulate (generic function with 1 method)"
      ]
     },
     "execution_count": 58,
     "metadata": {},
     "output_type": "execute_result"
    }
   ],
   "source": [
    "# Function to be called to create history\n",
    "function simulate(step; n_steps = 20 , xt = 1.0, xtm1 = 1.0)\n",
    "    # Pre allocate the first two given variables\n",
    "    history = [xtm1 , xt]\n",
    "\n",
    "    for _ in 1:n_steps\n",
    "        \n",
    "        # Store the first variables as above to xtm1 and xt\n",
    "        # Step to the next number and store this to history\n",
    "        # On next step these new numbers will be interchanged with xt and xtm1\n",
    "\n",
    "        xtm1 , xt = history[end-1:end]\n",
    "        xtp1 = step(xt,xtm1)\n",
    "        push!(history,xtp1)\n",
    "\n",
    "    end\n",
    "    # Return history \n",
    "    return history\n",
    "end"
   ]
  },
  {
   "cell_type": "markdown",
   "id": "2239aa03",
   "metadata": {},
   "source": [
    "Now run so you can get the output and then graph"
   ]
  },
  {
   "cell_type": "code",
   "execution_count": 59,
   "id": "14df07ec",
   "metadata": {},
   "outputs": [],
   "source": [
    "sims = 10\n",
    "steps = 20\n",
    "store = zeros(22,sims)\n",
    "for i in 1:sims\n",
    "    store[:,i] = simulate(step)\n",
    "end\n",
    "storeplot = store[2:end,:];"
   ]
  },
  {
   "cell_type": "markdown",
   "id": "465f7675",
   "metadata": {},
   "source": [
    "Now Plot"
   ]
  },
  {
   "cell_type": "code",
   "execution_count": 60,
   "id": "975c01f3",
   "metadata": {},
   "outputs": [
    {
     "data": {
      "text/plain": [
       "\"HW3Num3.png\""
      ]
     },
     "execution_count": 60,
     "metadata": {},
     "output_type": "execute_result"
    }
   ],
   "source": [
    "row , col = size(test)\n",
    "row\n",
    "output = plot(0:row-1, storeplot , legend =:outertopright)\n",
    "title!(output, \"Trajectories\")\n",
    "xlabel!(output, \"Step (time)\")\n",
    "xlims!(output,0,20)\n",
    "ylabel!(output, \"X value\")\n",
    "png(output,\"HW3Num3\")"
   ]
  }
 ],
 "metadata": {
  "kernelspec": {
   "display_name": "Julia 1.8.5",
   "language": "julia",
   "name": "julia-1.8"
  },
  "language_info": {
   "file_extension": ".jl",
   "mimetype": "application/julia",
   "name": "julia",
   "version": "1.8.5"
  }
 },
 "nbformat": 4,
 "nbformat_minor": 5
}
