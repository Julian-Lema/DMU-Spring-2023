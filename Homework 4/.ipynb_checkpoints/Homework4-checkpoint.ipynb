{
 "cells": [
  {
   "cell_type": "code",
   "execution_count": 64,
   "id": "f988b76f",
   "metadata": {
    "scrolled": true
   },
   "outputs": [],
   "source": [
    "using DMUStudent.HW4: gw\n",
    "using POMDPs: actions, @gen, isterminal, discount, statetype, actiontype, simulate, states, initialstate\n",
    "using D3Trees: inchrome\n",
    "using StaticArrays: SA\n",
    "using Statistics: mean, std, mean\n",
    "using LinearAlgebra\n",
    "using Random\n",
    "using CommonRLInterface\n",
    "using Compose"
   ]
  },
  {
   "cell_type": "code",
   "execution_count": 67,
   "id": "25da7dda",
   "metadata": {},
   "outputs": [
    {
     "ename": "LoadError",
     "evalue": "MethodError: no method matching actiontype(::DMUStudent.HW4.GridWorldEnv)\n\u001b[0mClosest candidates are:\n\u001b[0m  actiontype(\u001b[91m::Type{POMDPs.POMDP{S, A, O}}\u001b[39m) where {S, A, O} at ~/.julia/packages/POMDPs/XBTe5/src/type_inferrence.jl:33\n\u001b[0m  actiontype(\u001b[91m::Type{POMDPs.MDP{S, A}}\u001b[39m) where {S, A} at ~/.julia/packages/POMDPs/XBTe5/src/type_inferrence.jl:34\n\u001b[0m  actiontype(\u001b[91m::Union{POMDPs.MDP, POMDPs.POMDP}\u001b[39m) at ~/.julia/packages/POMDPs/XBTe5/src/type_inferrence.jl:36\n\u001b[0m  ...",
     "output_type": "error",
     "traceback": [
      "MethodError: no method matching actiontype(::DMUStudent.HW4.GridWorldEnv)\n\u001b[0mClosest candidates are:\n\u001b[0m  actiontype(\u001b[91m::Type{POMDPs.POMDP{S, A, O}}\u001b[39m) where {S, A, O} at ~/.julia/packages/POMDPs/XBTe5/src/type_inferrence.jl:33\n\u001b[0m  actiontype(\u001b[91m::Type{POMDPs.MDP{S, A}}\u001b[39m) where {S, A} at ~/.julia/packages/POMDPs/XBTe5/src/type_inferrence.jl:34\n\u001b[0m  actiontype(\u001b[91m::Union{POMDPs.MDP, POMDPs.POMDP}\u001b[39m) at ~/.julia/packages/POMDPs/XBTe5/src/type_inferrence.jl:36\n\u001b[0m  ...",
      "",
      "Stacktrace:",
      " [1] top-level scope",
      "   @ In[67]:3"
     ]
    }
   ],
   "source": [
    "env = gw\n",
    "observe(env)\n",
    "actiontype(env)\n",
    "r = act!(env,:up)\n",
    "Q = Dict{Tuple{S, A}, Float64}()"
   ]
  },
  {
   "cell_type": "code",
   "execution_count": null,
   "id": "5526bdf0",
   "metadata": {},
   "outputs": [],
   "source": [
    "Q = Dict{Tuple{S, A}, Float64}()\n",
    "s = observe(env)\n",
    "\n",
    "function Q_Learning(env, Q, s, epsilon, alpha, gamma)\n",
    "    \n",
    "    for i in 1:1000\n",
    "        if rand() < epsilon \n",
    "            a = rand(actions(env))\n",
    "        else\n",
    "            a = argmax(Q[s,a])\n",
    "        end\n",
    "\n",
    "        r = act!(env,a)\n",
    "        s_prime = observe(env)\n",
    "\n",
    "        Q[(s,a)] = Q[(s,a)] + alpha * (r + gamma*max(Q[s_prime,a] - Q[(s,a)]))\n",
    "\n",
    "        s = s_prime\n",
    "    end\n",
    "end\n",
    "\n",
    "function SARSA_Lambda\n"
   ]
  }
 ],
 "metadata": {
  "kernelspec": {
   "display_name": "Julia 1.8.5",
   "language": "julia",
   "name": "julia-1.8"
  },
  "language_info": {
   "file_extension": ".jl",
   "mimetype": "application/julia",
   "name": "julia",
   "version": "1.8.5"
  }
 },
 "nbformat": 4,
 "nbformat_minor": 5
}
