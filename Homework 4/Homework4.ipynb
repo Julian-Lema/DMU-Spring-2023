{
 "cells": [
  {
   "cell_type": "code",
   "execution_count": 1,
   "id": "1b387457",
   "metadata": {
    "scrolled": true
   },
   "outputs": [],
   "source": [
    "using DMUStudent\n",
    "using DMUStudent.HW4: gw\n",
    "# using POMDPs: actions, @gen, isterminal, discount, statetype, actiontype, simulate, states, initialstate\n",
    "# using D3Trees: inchrome\n",
    "using StaticArrays: SA\n",
    "# using Statistics: mean, std, mean\n",
    "# using LinearAlgebra\n",
    "using Random\n",
    "using CommonRLInterface\n",
    "using Compose"
   ]
  },
  {
   "cell_type": "code",
   "execution_count": 12,
   "id": "161711fc",
   "metadata": {},
   "outputs": [
    {
     "ename": "LoadError",
     "evalue": "UndefVarError: Q not defined",
     "output_type": "error",
     "traceback": [
      "UndefVarError: Q not defined",
      "",
      "Stacktrace:",
      " [1] top-level scope",
      "   @ In[12]:10"
     ]
    }
   ],
   "source": [
    "env = DMUStudent.HW4.gw\n",
    "s = observe(env)\n",
    "actions(env)\n",
    "a = rand(actions(env))\n",
    "\n",
    "r = act!(env,a)\n",
    "observe(env)\n",
    "\n",
    "\n",
    "Q[(s,a)] = 1\n"
   ]
  },
  {
   "cell_type": "code",
   "execution_count": null,
   "id": "86e4d02b",
   "metadata": {},
   "outputs": [],
   "source": [
    "Q = Dict{Tuple{S, A}, Float64}()\n",
    "s = observe(env)\n",
    "\n",
    "function Q_Learning(env, Q, s, epsilon, alpha, gamma)\n",
    "    \n",
    "    while terminated(env) == false\n",
    "        if rand() < epsilon \n",
    "            a = rand(actions(env))\n",
    "        else\n",
    "            a = argmax(Q[s,a])\n",
    "        end\n",
    "\n",
    "        r = act!(env,a)\n",
    "        s_prime = observe(env)\n",
    "\n",
    "        Q[(s,a)] = Q[(s,a)] + alpha * (r + gamma*max(Q[s_prime,a] - Q[(s,a)]))\n",
    "\n",
    "        s = s_prime\n",
    "    end\n",
    "end\n",
    "\n",
    "function SARSA_Lambda(env, Q)\n"
   ]
  }
 ],
 "metadata": {
  "kernelspec": {
   "display_name": "Julia 1.8.5",
   "language": "julia",
   "name": "julia-1.8"
  },
  "language_info": {
   "file_extension": ".jl",
   "mimetype": "application/julia",
   "name": "julia",
   "version": "1.8.5"
  }
 },
 "nbformat": 4,
 "nbformat_minor": 5
}
